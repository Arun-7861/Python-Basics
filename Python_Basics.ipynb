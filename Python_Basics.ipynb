{
  "nbformat": 4,
  "nbformat_minor": 0,
  "metadata": {
    "colab": {
      "provenance": []
    },
    "kernelspec": {
      "name": "python3",
      "display_name": "Python 3"
    },
    "language_info": {
      "name": "python"
    }
  },
  "cells": [
    {
      "cell_type": "markdown",
      "source": [
        "#Python Basics"
      ],
      "metadata": {
        "id": "xELJqbhqGjIm"
      }
    },
    {
      "cell_type": "markdown",
      "source": [
        "1. What is Python, and why it is popular?\n",
        "   - Answer:-> Python is a high-level programming language and it is propular for its readability and ease of use.\n",
        "  \n"
      ],
      "metadata": {
        "id": "CZr7e63RGnKm"
      }
    },
    {
      "cell_type": "markdown",
      "source": [
        "2. What is an interpreter in Python?\n",
        "   - Answer:-> Interpreter that reads and executes the code line by line in Python."
      ],
      "metadata": {
        "id": "Ek39druxIFIb"
      }
    },
    {
      "cell_type": "markdown",
      "source": [
        "3.What are pre-defined keywords in Python?\n",
        "  - Answer:-> Pre-defined keywords reserved words in python that have specific, pre-defined meanings and can't be used as variables name or function names such as True, False,None etc"
      ],
      "metadata": {
        "id": "l2mkrHpVIlIt"
      }
    },
    {
      "cell_type": "markdown",
      "source": [
        "4.Can keywords be used as variable names?\n",
        "  - Answer:-> No, it can't be used as variable names"
      ],
      "metadata": {
        "id": "GFHiMyvHJYpz"
      }
    },
    {
      "cell_type": "markdown",
      "source": [
        "5. What is mutability in Python?\n",
        "   - Answer:-> Mutable means which can be modified after created such as if we have stored some value to a variable and later we want to change its value to our desired value then it can be done due to mutable property of python."
      ],
      "metadata": {
        "id": "iyLYyrNRJvSF"
      }
    },
    {
      "cell_type": "markdown",
      "source": [
        "6. Why are lists mutable, but tuples are immutable?\n",
        "  - Answer:->Lists are designed for dynamic modification, allowing elements to be added, removed, or changed after creation.\n",
        "  On the other hand,tuples are desinged for the purpose of data integrity, efficiency."
      ],
      "metadata": {
        "id": "kwHoSphQKihD"
      }
    },
    {
      "cell_type": "markdown",
      "source": [
        "7. What is the difference between \"==\" and \"is\" operators in Python?\n",
        "   - Answer:->\"==\" it is used to check whether return True if the value is same and False otherwise.\n",
        "   \"IS\" it is used to check for None or to confirm that two variables points to the exact same object instance."
      ],
      "metadata": {
        "id": "lTkrBgjeLpdp"
      }
    },
    {
      "cell_type": "markdown",
      "source": [
        "8. What are logical operators in python?\n",
        "   - Answer:-> Logical operators are and, or and not."
      ],
      "metadata": {
        "id": "mhICp-AeMkmS"
      }
    },
    {
      "cell_type": "markdown",
      "source": [
        "9.What is type casting in Python?\n",
        "  - Answer:-> In Python, Type casting is to the changing the data type of a variable."
      ],
      "metadata": {
        "id": "r2PJGo9CNEDC"
      }
    },
    {
      "cell_type": "markdown",
      "source": [
        "10. What is the difference between implicit and explicit type casting?\n",
        "    - Answer:-> Implicit type casting-It can converts  automatically one data type to another when it is required.\n",
        "    Explicit-In this type casting we can convert one data type to other data type using built-in functions."
      ],
      "metadata": {
        "id": "NaAzNf_FNrzc"
      }
    },
    {
      "cell_type": "markdown",
      "source": [
        "11. What is purpose of conditional statements in python?\n",
        "    - Answer:-> They are used for decision making capablities,allowing programs to respond in dynamic way using if,elif and else."
      ],
      "metadata": {
        "id": "kKxBNW44OkHc"
      }
    },
    {
      "cell_type": "markdown",
      "source": [
        "12. How does the elif statement work ?\n",
        "    - Answer:-> Elif statement allows to check multiple conditions.\n",
        "    Work flow structure of elif statement is first if statement will test the condition if it is false then it will check other condition using elif statement and code under elif will be checked,IF it's false then program move to elif or else block.![Elif.png](data:image/png;base64,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)"
      ],
      "metadata": {
        "id": "KluLvuWiParr"
      }
    },
    {
      "cell_type": "markdown",
      "source": [
        "13. What is the difference between for and while loops?\n",
        "    - Answer:-> Major difference between for and while loop is For loop repeats executing a code block from a sequence till certain numbers of times where as while loop repeats execution of a code block till the condition is true which is not certain."
      ],
      "metadata": {
        "id": "4NiRd80AQzsY"
      }
    },
    {
      "cell_type": "markdown",
      "source": [
        "14. Describe a scenario where a while loop is more suitable than a for loop?\n",
        "    - Answer:-> While loop is suitable when the number of iteration is not known in advance or when the loop's continuation depends on a dynamic changing condition."
      ],
      "metadata": {
        "id": "tlvyfKCXRlm9"
      }
    },
    {
      "cell_type": "markdown",
      "source": [
        "# Practical Part"
      ],
      "metadata": {
        "id": "kTvLvYY9RnUC"
      }
    },
    {
      "cell_type": "code",
      "source": [
        "#1. Write a Python program to print \"Hello, World!\n",
        "print(\"Hello, World!\")"
      ],
      "metadata": {
        "colab": {
          "base_uri": "https://localhost:8080/"
        },
        "id": "PtRFM_4pS0z_",
        "outputId": "00c8e907-d560-45bb-a52c-1b854c5d4959"
      },
      "execution_count": null,
      "outputs": [
        {
          "output_type": "stream",
          "name": "stdout",
          "text": [
            "Hello, World!\n"
          ]
        }
      ]
    },
    {
      "cell_type": "code",
      "source": [
        "#2. Write a Python program that displays your name and age.\n",
        "a=\"Arun Raj\"\n",
        "b=26\n",
        "print(f\"My name is {a}\")\n",
        "print(f\"My age is {b}\")"
      ],
      "metadata": {
        "colab": {
          "base_uri": "https://localhost:8080/"
        },
        "id": "6OY8J4DITGp1",
        "outputId": "516ce817-d7c1-431e-9553-a5c4de40008b"
      },
      "execution_count": null,
      "outputs": [
        {
          "output_type": "stream",
          "name": "stdout",
          "text": [
            "My name is Arun Raj\n",
            "My age is 26\n"
          ]
        }
      ]
    },
    {
      "cell_type": "code",
      "source": [
        "#3 Write code to print all the pre-defined keywords in Python using the keyword library.\n",
        "import keyword\n",
        "\n",
        "print(\"Python keywords:\")\n",
        "print(keyword.kwlist)"
      ],
      "metadata": {
        "colab": {
          "base_uri": "https://localhost:8080/"
        },
        "id": "UvYJum9mTdVf",
        "outputId": "8aa6a61c-b13c-4b33-b6be-7d7cef469105"
      },
      "execution_count": null,
      "outputs": [
        {
          "output_type": "stream",
          "name": "stdout",
          "text": [
            "Python keywords:\n",
            "['False', 'None', 'True', 'and', 'as', 'assert', 'async', 'await', 'break', 'class', 'continue', 'def', 'del', 'elif', 'else', 'except', 'finally', 'for', 'from', 'global', 'if', 'import', 'in', 'is', 'lambda', 'nonlocal', 'not', 'or', 'pass', 'raise', 'return', 'try', 'while', 'with', 'yield']\n"
          ]
        }
      ]
    },
    {
      "cell_type": "code",
      "source": [
        "#4. Write a program that checks if a given word is a Python keyword.\n",
        "\n",
        "import keyword\n",
        "\n",
        "word = input(\"Write a word: \")\n",
        "\n",
        "if keyword.iskeyword(word):\n",
        "    print(f\"'{word}' is a Python keyword.\")\n",
        "else:\n",
        "    print(f\"'{word}' is not a Python keyword.\")\n",
        "\n"
      ],
      "metadata": {
        "colab": {
          "base_uri": "https://localhost:8080/"
        },
        "id": "XStPYXv6U-wg",
        "outputId": "14df1f7f-800a-42dd-bf1d-b8c6a4d4eb14"
      },
      "execution_count": null,
      "outputs": [
        {
          "output_type": "stream",
          "name": "stdout",
          "text": [
            "Write a word: for\n",
            "'for' is a Python keyword.\n"
          ]
        }
      ]
    },
    {
      "cell_type": "code",
      "source": [
        "'''#5.Create a list and tuple in Python, and demonstrate how attempting to change an element works differently\n",
        "for each.'''\n",
        "a=['arun',1,1.5,{\"Name\":\"Ram\",\"Age\":26}]\n",
        "print(a)\n",
        "a[2]=\"Ramayan\"\n",
        "print(a);\n",
        "# Tuple created and value is change\n",
        "a=('arun',1,1.5,[\"Ram\",26],{\"Name\":\"Raman\",\"Age\":26})\n",
        "print(a)\n",
        "a=list(a)\n",
        "a[3][0]=\"Ravan\"\n",
        "print(a);\n"
      ],
      "metadata": {
        "id": "shR7XIjjWZk4",
        "colab": {
          "base_uri": "https://localhost:8080/"
        },
        "outputId": "6cadebda-238d-4c83-dfba-6444830f28a2"
      },
      "execution_count": null,
      "outputs": [
        {
          "output_type": "stream",
          "name": "stdout",
          "text": [
            "['arun', 1, 1.5, {'Name': 'Ram', 'Age': 26}]\n",
            "['arun', 1, 'Ramayan', {'Name': 'Ram', 'Age': 26}]\n",
            "('arun', 1, 1.5, ['Ram', 26], {'Name': 'Raman', 'Age': 26})\n",
            "['arun', 1, 1.5, ['Ravan', 26], {'Name': 'Raman', 'Age': 26}]\n"
          ]
        }
      ]
    },
    {
      "cell_type": "code",
      "source": [
        "#Question 6:- Write a function to demonstrate the behaviour of mutable and immutable arguments.\n",
        "a=['arun',1,1.5,{\"Name\":\"Ram\",\"Age\":26}]\n",
        "print(a)\n",
        "a[2]=\"Ramayan\"\n",
        "print(a);\n",
        "# Tuple is immutable\n",
        "a=('arun',1,1.5,\"Ram\")\n",
        "print(a)\n",
        "a[3]=\"Ravan\"\n",
        "print(a);\n"
      ],
      "metadata": {
        "colab": {
          "base_uri": "https://localhost:8080/",
          "height": 245
        },
        "id": "odwM0uRoZ1bF",
        "outputId": "585a99cf-5735-4788-e4bf-3898846ff3cd"
      },
      "execution_count": null,
      "outputs": [
        {
          "output_type": "stream",
          "name": "stdout",
          "text": [
            "['arun', 1, 1.5, {'Name': 'Ram', 'Age': 26}]\n",
            "['arun', 1, 'Ramayan', {'Name': 'Ram', 'Age': 26}]\n",
            "('arun', 1, 1.5, 'Ram')\n"
          ]
        },
        {
          "output_type": "error",
          "ename": "TypeError",
          "evalue": "'tuple' object does not support item assignment",
          "traceback": [
            "\u001b[0;31m---------------------------------------------------------------------------\u001b[0m",
            "\u001b[0;31mTypeError\u001b[0m                                 Traceback (most recent call last)",
            "\u001b[0;32m<ipython-input-3-7a69e2749094>\u001b[0m in \u001b[0;36m<cell line: 0>\u001b[0;34m()\u001b[0m\n\u001b[1;32m      7\u001b[0m \u001b[0ma\u001b[0m\u001b[0;34m=\u001b[0m\u001b[0;34m(\u001b[0m\u001b[0;34m'arun'\u001b[0m\u001b[0;34m,\u001b[0m\u001b[0;36m1\u001b[0m\u001b[0;34m,\u001b[0m\u001b[0;36m1.5\u001b[0m\u001b[0;34m,\u001b[0m\u001b[0;34m\"Ram\"\u001b[0m\u001b[0;34m)\u001b[0m\u001b[0;34m\u001b[0m\u001b[0;34m\u001b[0m\u001b[0m\n\u001b[1;32m      8\u001b[0m \u001b[0mprint\u001b[0m\u001b[0;34m(\u001b[0m\u001b[0ma\u001b[0m\u001b[0;34m)\u001b[0m\u001b[0;34m\u001b[0m\u001b[0;34m\u001b[0m\u001b[0m\n\u001b[0;32m----> 9\u001b[0;31m \u001b[0ma\u001b[0m\u001b[0;34m[\u001b[0m\u001b[0;36m3\u001b[0m\u001b[0;34m]\u001b[0m\u001b[0;34m=\u001b[0m\u001b[0;34m\"Ravan\"\u001b[0m\u001b[0;34m\u001b[0m\u001b[0;34m\u001b[0m\u001b[0m\n\u001b[0m\u001b[1;32m     10\u001b[0m \u001b[0mprint\u001b[0m\u001b[0;34m(\u001b[0m\u001b[0ma\u001b[0m\u001b[0;34m)\u001b[0m\u001b[0;34m;\u001b[0m\u001b[0;34m\u001b[0m\u001b[0;34m\u001b[0m\u001b[0m\n",
            "\u001b[0;31mTypeError\u001b[0m: 'tuple' object does not support item assignment"
          ]
        }
      ]
    },
    {
      "cell_type": "code",
      "source": [
        "#7. Write a program that performs basic arithmetic operations on two user-input numbers\n",
        "a = float(input(\"Enter first number: \"))\n",
        "b = float(input(\"Enter second number: \"))\n",
        " # Perform operations\n",
        "print(\"Addition:\", a + b)\n",
        "print(\"Subtraction:\", a - b)\n",
        "print(\"Multiplication:\", a * b)\n",
        "print(\"Division:\", a / b)\n",
        "print(\"Floor Division:\", a // b)\n",
        "print(\"Modulus:\", a % b)\n",
        "print(\"Exponentiation:\", a ** b)"
      ],
      "metadata": {
        "colab": {
          "base_uri": "https://localhost:8080/"
        },
        "id": "x0mw0sQebPUs",
        "outputId": "c8219bcd-8b39-49c8-8ad5-64d22ecc2c5c"
      },
      "execution_count": null,
      "outputs": [
        {
          "output_type": "stream",
          "name": "stdout",
          "text": [
            "Enter first number: 15\n",
            "Enter second number: 12\n",
            "Addition: 27.0\n",
            "Subtraction: 3.0\n",
            "Multiplication: 180.0\n",
            "Division: 1.25\n",
            "Floor Division: 1.0\n",
            "Modulus: 3.0\n",
            "Exponentiation: 129746337890625.0\n"
          ]
        }
      ]
    },
    {
      "cell_type": "code",
      "source": [
        "#8. Write a program to demonstrate the use of logical operators.\n",
        "age = int(input(\"Enter your age: \"))\n",
        "if age>=18:\n",
        "   print(\"You can drive !\")\n",
        "elif age<18 and age>12:\n",
        "   print(\"You are minor!\")\n",
        "else:\n",
        "  print(\"You are not eligible!\");"
      ],
      "metadata": {
        "colab": {
          "base_uri": "https://localhost:8080/"
        },
        "id": "Ixj3tWDnb-Ol",
        "outputId": "5caa2cb3-e0ea-4717-c2f7-d9400e6f0c36"
      },
      "execution_count": null,
      "outputs": [
        {
          "output_type": "stream",
          "name": "stdout",
          "text": [
            "Enter your age: 15\n",
            "You are minor!\n"
          ]
        }
      ]
    },
    {
      "cell_type": "code",
      "source": [
        "#9. Write a Python program to convert user input from string to integer, float, and boolean types.\n",
        "a = input(\"Enter a value: \")\n",
        "# Convert to integer\n",
        "b = int(a)\n",
        "# Convert to float\n",
        "c = float(a)\n",
        "# Convert to boolean\n",
        "d = bool(a)\n",
        "# Print all results\n",
        "print(\"Integer:\", b)\n",
        "print(\"Float:\", c)\n",
        "print(\"Boolean:\", d)\n"
      ],
      "metadata": {
        "id": "HhMvpLDfcn4N",
        "colab": {
          "base_uri": "https://localhost:8080/"
        },
        "outputId": "6f366d58-bf27-476d-a9ff-8fd303b30445"
      },
      "execution_count": 1,
      "outputs": [
        {
          "output_type": "stream",
          "name": "stdout",
          "text": [
            "Enter a value: 15\n",
            "Integer: 15\n",
            "Float: 15.0\n",
            "Boolean: True\n"
          ]
        }
      ]
    },
    {
      "cell_type": "code",
      "source": [
        "#10. Write code to demonstrate type casting with list elements.\n",
        "a=['1',1,'Ram']\n",
        "b=int(a[0])\n",
        "print(b,type(b))\n",
        "c=float(a[1])\n",
        "print(c,type(c))\n",
        "d=str(a[1])\n",
        "print(d,type(d))\n"
      ],
      "metadata": {
        "id": "J1fI6qIsc5cR",
        "colab": {
          "base_uri": "https://localhost:8080/"
        },
        "outputId": "91c540c5-ae07-447a-82b0-66e856e2f066"
      },
      "execution_count": 2,
      "outputs": [
        {
          "output_type": "stream",
          "name": "stdout",
          "text": [
            "1 <class 'int'>\n",
            "1.0 <class 'float'>\n",
            "1 <class 'str'>\n"
          ]
        }
      ]
    },
    {
      "cell_type": "code",
      "source": [
        "#11. Write a program that checks if a number is positive, negative, or zero.\n",
        "Number=int(input(\"Enter you number: \"))\n",
        "if Number>0:\n",
        "  print(\"Your number is positive\")\n",
        "elif Number==0:\n",
        "  print(\"Your number is Zero!\")\n",
        "else:\n",
        "  print(\"Your number is Negative!\");"
      ],
      "metadata": {
        "colab": {
          "base_uri": "https://localhost:8080/"
        },
        "id": "bkV6wzE4c-fA",
        "outputId": "df8c274d-e031-4771-ed24-6fe2dd4efb5b"
      },
      "execution_count": null,
      "outputs": [
        {
          "output_type": "stream",
          "name": "stdout",
          "text": [
            "Enter you number: -5\n",
            "Your number is Negative!\n"
          ]
        }
      ]
    },
    {
      "cell_type": "code",
      "source": [
        "#12. Write a for loop to print numbers from 1 to 10.\n",
        "for s in range(1,11):\n",
        "  print(s);"
      ],
      "metadata": {
        "colab": {
          "base_uri": "https://localhost:8080/"
        },
        "id": "xvNOC0YydXtc",
        "outputId": "a3664046-eacb-4cc3-c3e6-c6100347da1f"
      },
      "execution_count": null,
      "outputs": [
        {
          "output_type": "stream",
          "name": "stdout",
          "text": [
            "1\n",
            "2\n",
            "3\n",
            "4\n",
            "5\n",
            "6\n",
            "7\n",
            "8\n",
            "9\n",
            "10\n"
          ]
        }
      ]
    },
    {
      "cell_type": "code",
      "source": [
        "#13. Write a Python program to find the sum of all even numbers between 1 and 50.\n",
        "a=1\n",
        "b=50\n",
        "c= sum(range(a+1,b+1,2))\n",
        "print(c);"
      ],
      "metadata": {
        "colab": {
          "base_uri": "https://localhost:8080/"
        },
        "id": "pXlRX6mhdsjZ",
        "outputId": "1f195952-4770-4f50-fb99-77c9b7e9bf24"
      },
      "execution_count": null,
      "outputs": [
        {
          "output_type": "stream",
          "name": "stdout",
          "text": [
            "650\n"
          ]
        }
      ]
    },
    {
      "cell_type": "code",
      "source": [
        "#14. Write a program to reverse a string using a while loop.\n",
        "a='RTM'\n",
        "b=\"\"\n",
        "c=len(a)-1\n",
        "while c>=0:\n",
        " b=b+a[c]\n",
        " c=c-1\n",
        "print(b);"
      ],
      "metadata": {
        "colab": {
          "base_uri": "https://localhost:8080/"
        },
        "id": "VfWuWgLweA0B",
        "outputId": "5c1744da-e5a0-437d-8526-235b4111d512"
      },
      "execution_count": null,
      "outputs": [
        {
          "output_type": "stream",
          "name": "stdout",
          "text": [
            "MTR\n"
          ]
        }
      ]
    },
    {
      "cell_type": "code",
      "source": [
        "#15. Write a Python program to calculate the factorial of a number provided by the user using a while loop.\n",
        "number = int(input(\"Enter a number: \"))\n",
        "factorial = 1\n",
        "if number < 0:\n",
        "  print(\"Factorial is not defined!\")\n",
        "elif number==0:\n",
        "  print(\"Factorial of 0 is 1\")\n",
        "else:\n",
        "  while number>0:\n",
        "    factorial=factorial*number\n",
        "    number= number-1\n",
        "  print(\"The factorial is\",factorial);"
      ],
      "metadata": {
        "colab": {
          "base_uri": "https://localhost:8080/"
        },
        "id": "1JYo9EViejJy",
        "outputId": "aef2d17f-4864-4c1a-ef20-12c81273028c"
      },
      "execution_count": null,
      "outputs": [
        {
          "output_type": "stream",
          "name": "stdout",
          "text": [
            "Enter a number: 5\n",
            "The factorial is 120\n"
          ]
        }
      ]
    },
    {
      "cell_type": "code",
      "source": [],
      "metadata": {
        "id": "oCH145oTfsT0"
      },
      "execution_count": null,
      "outputs": []
    }
  ]
}